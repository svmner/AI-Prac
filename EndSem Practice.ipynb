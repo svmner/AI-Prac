{
 "cells": [
  {
   "cell_type": "code",
   "execution_count": null,
   "id": "c44a1175",
   "metadata": {},
   "outputs": [],
   "source": [
    "#EndSem Practice"
   ]
  },
  {
   "cell_type": "code",
   "execution_count": null,
   "id": "14530b85",
   "metadata": {},
   "outputs": [],
   "source": [
    "#UCS\n",
    "\n",
    "from queue import PriorityQueue\n",
    "\n",
    "def ucs(start,goal):\n",
    "    frontier = PriorityQueue()\n",
    "    frontier.put((0,start))\n",
    "    camefrom = {}\n",
    "    costsofar = {}\n",
    "    camefrom[start] = None\n",
    "    costsofar[start] = 0\n",
    "    \n",
    "    while not frontier.empty():\n",
    "        current = frontier.get()[1]\n",
    "        \n",
    "        if current == goal:\n",
    "            break\n",
    "        \n",
    "        for neighbor,cost in graph[current].items():\n",
    "            newcost = costsofar[current] + cost\n",
    "            if neighbor not in costsofar or newcost<costsofar[neighbour]:\n",
    "                costsofar[neighbor] = newcost\n",
    "                priority = newcost\n",
    "                frontier.put((priority,neighbor))\n",
    "                camefrom[neighbor] = current\n",
    "        \n",
    "    path = [goal]\n",
    "    node = goal\n",
    "    while node != start:\n",
    "        node = camefrom[node]\n",
    "        path.append(node)\n",
    "    path.reverse()\n",
    "    \n",
    "    return path\n",
    "\n",
    "graph = {\n",
    "    'A': [('B', 6), ('F', 3)],\n",
    "    'B': [('A', 6), ('C', 3), ('D', 2)],\n",
    "    'C': [('B', 3), ('D', 1), ('E', 5)],\n",
    "    'D': [('B', 2), ('C', 1), ('E', 8)],\n",
    "    'E': [('C', 5), ('D', 8), ('I', 5), ('J', 5)],\n",
    "    'F': [('A', 3), ('G', 1), ('H', 7)],\n",
    "    'G': [('F', 1), ('I', 3)],\n",
    "    'H': [('F', 7), ('I', 2)],\n",
    "    'I': [('E', 5), ('G', 3), ('H', 2), ('J', 3)],\n",
    "}\n",
    "\n",
    "\n",
    "start = 'A'\n",
    "goal = 'G'\n",
    "\n",
    "path = ucs(start,goal)\n",
    "\n",
    "print(path)\n",
    "\n",
    "    "
   ]
  },
  {
   "cell_type": "code",
   "execution_count": 3,
   "id": "ba143480",
   "metadata": {},
   "outputs": [
    {
     "name": "stdout",
     "output_type": "stream",
     "text": [
      "Enter minimum bound and maximum bound10 20\n",
      "20\n",
      "10\n"
     ]
    }
   ],
   "source": [
    "## Hill Climbing Search\n",
    "\n",
    "import random\n",
    "\n",
    "def objectivefunction(x):\n",
    "    return x ** 2\n",
    "    \n",
    "def objectivefunction2(x):\n",
    "    return -(x ** 2)\n",
    "    \n",
    "def hill_climbing(objectivefunction,x_min,x_max,n_iterations = 1000,step_size = 0.1):\n",
    "    x = random.uniform(x_min,x_max)\n",
    "    \n",
    "    for i in range(n_iterations):\n",
    "        x_new = x + random.uniform(-step_size,step_size)\n",
    "        \n",
    "        x_new = max(x_min,min(x_max,x_new))\n",
    "        \n",
    "        f_current = objectivefunction(x)\n",
    "        f_new = objectivefunction(x_new)\n",
    "        \n",
    "        if f_new > f_current:\n",
    "            x = x_new\n",
    "            \n",
    "    return x\n",
    "\n",
    "x_min,x_max= map(int,input(\"Enter minimum bound and maximum bound\").split())\n",
    "x_maximise = hill_climbing(objectivefunction,x_min,x_max)\n",
    "x_minimise = hill_climbing(objectivefunction2,x_min,x_max)\n",
    "\n",
    "print(x_maximise)\n",
    "print(x_minimise)\n"
   ]
  },
  {
   "cell_type": "markdown",
   "id": "53d9dafb",
   "metadata": {},
   "source": [
    "## Crypt Arithmetic\n",
    "\n"
   ]
  },
  {
   "cell_type": "code",
   "execution_count": null,
   "id": "82752365",
   "metadata": {},
   "outputs": [],
   "source": [
    "x = 4\n",
    "print"
   ]
  },
  {
   "cell_type": "code",
   "execution_count": null,
   "id": "201d4ae7",
   "metadata": {},
   "outputs": [],
   "source": []
  }
 ],
 "metadata": {
  "kernelspec": {
   "display_name": "Python 3 (ipykernel)",
   "language": "python",
   "name": "python3"
  },
  "language_info": {
   "codemirror_mode": {
    "name": "ipython",
    "version": 3
   },
   "file_extension": ".py",
   "mimetype": "text/x-python",
   "name": "python",
   "nbconvert_exporter": "python",
   "pygments_lexer": "ipython3",
   "version": "3.10.9"
  }
 },
 "nbformat": 4,
 "nbformat_minor": 5
}
